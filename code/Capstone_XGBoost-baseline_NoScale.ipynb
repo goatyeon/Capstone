{
  "nbformat": 4,
  "nbformat_minor": 0,
  "metadata": {
    "colab": {
      "provenance": []
    },
    "kernelspec": {
      "name": "python3",
      "display_name": "Python 3"
    },
    "language_info": {
      "name": "python"
    }
  },
  "cells": [
    {
      "cell_type": "markdown",
      "source": [
        "##**기본 (cv 미사용)**"
      ],
      "metadata": {
        "id": "Rn2cEjVR_KdC"
      }
    },
    {
      "cell_type": "markdown",
      "source": [
        "**라이브러리 임포트**"
      ],
      "metadata": {
        "id": "ucuGGJ5D_lNi"
      }
    },
    {
      "cell_type": "code",
      "source": [
        "import xgboost as xgb\n",
        "from sklearn.model_selection import train_test_split\n",
        "from sklearn.metrics import mean_squared_error\n",
        "import pandas as pd"
      ],
      "metadata": {
        "id": "6IUua04z_sRO"
      },
      "execution_count": null,
      "outputs": []
    },
    {
      "cell_type": "markdown",
      "source": [
        "**메인 코드**"
      ],
      "metadata": {
        "id": "Fu2ZvTqB_v7u"
      }
    },
    {
      "cell_type": "code",
      "source": [
        "# 데이터 로드\n",
        "data = pd.read_csv(\"satellite_pm_data.csv\")  # 위성 밴드값 + PM 데이터\n",
        "\n",
        "X = data.drop(\"PM_value\", axis=1)  # 특성(밴드값)\n",
        "y = data[\"PM_value\"]  # 타겟 값(PM 2.5)\n",
        "\n",
        "# 학습/테스트 분리\n",
        "X_train, X_test, y_train, y_test = train_test_split(X, y, test_size=0.2, random_state=42)\n",
        "\n",
        "# 모델 생성\n",
        "model = xgb.XGBRegressor(\n",
        "    n_estimators=200,\n",
        "    learning_rate=0.05,\n",
        "    max_depth=6,\n",
        "    subsample=0.8,\n",
        "    colsample_bytree=0.8,\n",
        "    random_state=42\n",
        ")\n",
        "\n",
        "# 학습\n",
        "model.fit(X_train, y_train, early_stopping_rounds=10, eval_set=[(X_test, y_test)], verbose=True)\n",
        "\n",
        "# 예측\n",
        "y_pred = model.predict(X_test)\n",
        "\n",
        "# 평가\n",
        "rmse = mean_squared_error(y_test, y_pred, squared=False)\n",
        "print(f\"RMSE: {rmse:.2f}\")\n",
        "\n",
        "# 특성 중요도 시각화\n",
        "xgb.plot_importance(model, importance_type='gain')\n",
        "plt.show()"
      ],
      "metadata": {
        "id": "LEMCoYSs_KFv"
      },
      "execution_count": null,
      "outputs": []
    },
    {
      "cell_type": "markdown",
      "source": [
        "##**K-fold**"
      ],
      "metadata": {
        "id": "G78_vQmN_CaD"
      }
    },
    {
      "cell_type": "markdown",
      "source": [
        "###지역 별로 나눠서"
      ],
      "metadata": {
        "id": "o8GXhKY5AAmU"
      }
    },
    {
      "cell_type": "markdown",
      "source": [
        "**라이브러리 임포트**"
      ],
      "metadata": {
        "id": "XlMHBzDX_3d0"
      }
    },
    {
      "cell_type": "code",
      "source": [
        "import os\n",
        "from sklearn.model_selection import GroupKFold"
      ],
      "metadata": {
        "id": "5OeR8u-A_6yL"
      },
      "execution_count": null,
      "outputs": []
    },
    {
      "cell_type": "code",
      "execution_count": null,
      "metadata": {
        "id": "dnRCeffP-639"
      },
      "outputs": [],
      "source": [
        "'''\n",
        "한 지역 데이터를 테스트로 쓰겠다는 의미\n",
        "train : 강릉, 아산, 서산....\n",
        "test : 광주\n",
        "\n",
        "train : 아산, 서산, 광주....\n",
        "test : 강릉\n",
        "'''\n",
        "\n",
        "\n",
        "\n",
        "# 데이터 로드 및 통합 함수\n",
        "def load_data(directory):\n",
        "    all_data = []\n",
        "    for file in os.listdir(directory):\n",
        "        if file.endswith(\".csv\"):\n",
        "            region, year = file.replace(\".csv\", \"\").split(\"_\")\n",
        "            data = pd.read_csv(os.path.join(directory, file))\n",
        "            data[\"region\"] = region\n",
        "            data[\"year\"] = int(year)\n",
        "            all_data.append(data)\n",
        "    return pd.concat(all_data, ignore_index=True)\n",
        "\n",
        "# 데이터 경로 설정 및 로드\n",
        "data_directory = \"path_to_your_data\"  # 데이터를 저장한 디렉토리 경로\n",
        "combined_data = load_data(data_directory)\n",
        "\n",
        "# 특성과 타겟 설정\n",
        "X = combined_data.drop(columns=[\"PM_value\"])  # 특성\n",
        "y = combined_data[\"PM_value\"]               # 타겟\n",
        "\n",
        "groups = combined_data[\"region\"]  # 그룹 기준: 지역\n",
        "\n",
        "\n",
        "\n",
        "# Group K-Fold 교차검증\n",
        "gkf = GroupKFold(n_splits=5)\n",
        "params = {\n",
        "    \"objective\": \"reg:squarederror\",\n",
        "    \"learning_rate\": 0.1,\n",
        "    \"max_depth\": 6,\n",
        "    \"subsample\": 0.8,\n",
        "    \"colsample_bytree\": 0.8\n",
        "}\n",
        "\n",
        "# 결과 저장\n",
        "rmse_list = []\n",
        "\n",
        "for train_index, test_index in gkf.split(X, y, groups):\n",
        "    X_train, X_test = X.iloc[train_index], X.iloc[test_index]\n",
        "    y_train, y_test = y.iloc[train_index], y.iloc[test_index]\n",
        "\n",
        "    # DMatrix 생성\n",
        "    dtrain = xgb.DMatrix(X_train, label=y_train)\n",
        "    dtest = xgb.DMatrix(X_test, label=y_test)\n",
        "\n",
        "    # 모델 학습\n",
        "    model = xgb.train(params, dtrain, num_boost_round=200,\n",
        "                      evals=[(dtest, 'eval')],\n",
        "                      early_stopping_rounds=10,\n",
        "                      verbose_eval=True)\n",
        "\n",
        "    # 예측\n",
        "    y_pred = model.predict(dtest)\n",
        "\n",
        "    # RMSE 계산\n",
        "    rmse = mean_squared_error(y_test, y_pred, squared=False)\n",
        "    rmse_list.append(rmse)\n",
        "    print(f\"Fold RMSE: {rmse:.2f}\")\n",
        "\n",
        "# 평균 RMSE 출력\n",
        "print(f\"Average RMSE across folds: {sum(rmse_list) / len(rmse_list):.2f}\")\n",
        "\n",
        "# 특성 중요도 시각화\n",
        "xgb.plot_importance(model, importance_type='gain')\n",
        "plt.show()\n"
      ]
    },
    {
      "cell_type": "code",
      "source": [
        "'''\n",
        "- 유사한 지역 끼리 그룹화 해서\n",
        "- 클러스터링 활용하기\n",
        "'''\n",
        "\n",
        "from sklearn.cluster import KMeans\n",
        "\n",
        "\n",
        "# Step 1: 지역별 통계값 계산\n",
        "# 수정 필요\n",
        "region_stats = combined_data.groupby('region')['PM_value'].agg(['mean', 'std']).reset_index()\n",
        "\n",
        "# Step 2: 클러스터링 (K-Means)\n",
        "# 수정 필요\n",
        "n_clusters = 3  # 원하는 그룹 수 설정\n",
        "kmeans = KMeans(n_clusters=n_clusters, random_state=42)\n",
        "region_stats['cluster'] = kmeans.fit_predict(region_stats[['mean', 'std']])\n",
        "\n",
        "# Step 3: 각 데이터에 클러스터 정보 추가\n",
        "region_to_cluster = region_stats.set_index('region')['cluster'].to_dict()\n",
        "combined_data['cluster'] = combined_data['region'].map(region_to_cluster)\n",
        "\n",
        "# Step 4: Group K-Fold로 교차검증\n",
        "gkf = GroupKFold(n_splits=n_clusters)  # 클러스터 수와 동일하게 설정\n",
        "groups = combined_data['cluster']  # 클러스터 기반 그룹\n",
        "\n",
        "params = {\n",
        "    \"objective\": \"reg:squarederror\",\n",
        "    \"learning_rate\": 0.1,\n",
        "    \"max_depth\": 6,\n",
        "    \"subsample\": 0.8,\n",
        "    \"colsample_bytree\": 0.8\n",
        "}\n",
        "\n",
        "rmse_list = []\n",
        "X = combined_data.drop(columns=['PM_value', 'region', 'cluster'])\n",
        "y = combined_data['PM_value']\n",
        "\n",
        "for train_index, test_index in gkf.split(X, y, groups):\n",
        "    X_train, X_test = X.iloc[train_index], X.iloc[test_index]\n",
        "    y_train, y_test = y.iloc[train_index], y.iloc[test_index]\n",
        "\n",
        "    dtrain = xgb.DMatrix(X_train, label=y_train)\n",
        "    dtest = xgb.DMatrix(X_test, label=y_test)\n",
        "\n",
        "    model = xgb.train(params, dtrain, num_boost_round=200,\n",
        "                      evals=[(dtest, 'eval')],\n",
        "                      early_stopping_rounds=10,\n",
        "                      verbose_eval=True)\n",
        "\n",
        "    y_pred = model.predict(dtest)\n",
        "    rmse = mean_squared_error(y_test, y_pred, squared=False)\n",
        "    rmse_list.append(rmse)\n",
        "    print(f\"Fold RMSE: {rmse:.2f}\")\n",
        "\n",
        "print(f\"Average RMSE across folds: {sum(rmse_list) / len(rmse_list):.2f}\")"
      ],
      "metadata": {
        "id": "QLpk5yPoAuzJ"
      },
      "execution_count": null,
      "outputs": []
    },
    {
      "cell_type": "markdown",
      "source": [
        "##랜덤하게"
      ],
      "metadata": {
        "id": "WraWJmyaA5nk"
      }
    },
    {
      "cell_type": "code",
      "source": [
        "# method1\n",
        "\n",
        "# KFold 교차검증 설정\n",
        "kf = KFold(n_splits=5, shuffle=True, random_state=42)  # shuffle=True로 랜덤하게 분할\n",
        "\n",
        "# 결과 저장\n",
        "rmse_list = []\n",
        "params = {\n",
        "    \"objective\": \"reg:squarederror\",\n",
        "    \"learning_rate\": 0.1,\n",
        "    \"max_depth\": 6,\n",
        "    \"subsample\": 0.8,\n",
        "    \"colsample_bytree\": 0.8\n",
        "}\n",
        "\n",
        "for train_index, test_index in kf.split(X):\n",
        "    X_train, X_test = X.iloc[train_index], X.iloc[test_index]\n",
        "    y_train, y_test = y.iloc[train_index], y.iloc[test_index]\n",
        "\n",
        "    # DMatrix 생성\n",
        "    dtrain = xgb.DMatrix(X_train, label=y_train)\n",
        "    dtest = xgb.DMatrix(X_test, label=y_test)\n",
        "\n",
        "    # 모델 학습\n",
        "    model = xgb.train(params, dtrain, num_boost_round=200,\n",
        "                      evals=[(dtest, 'eval')],\n",
        "                      early_stopping_rounds=10,\n",
        "                      verbose_eval=True)\n",
        "\n",
        "    # 예측 및 평가\n",
        "    y_pred = model.predict(dtest)\n",
        "    rmse = mean_squared_error(y_test, y_pred, squared=False)\n",
        "    rmse_list.append(rmse)\n",
        "    print(f\"Fold RMSE: {rmse:.2f}\")\n",
        "\n",
        "print(f\"Average RMSE across folds: {sum(rmse_list) / len(rmse_list):.2f}\")"
      ],
      "metadata": {
        "id": "BwJIYL_9A9Mu"
      },
      "execution_count": null,
      "outputs": []
    },
    {
      "cell_type": "code",
      "source": [
        "# method2\n",
        "\n",
        "from sklearn.model_selection import ShuffleSplit\n",
        "\n",
        "# ShuffleSplit 설정\n",
        "ss = ShuffleSplit(n_splits=5, test_size=0.2, random_state=42)\n",
        "\n",
        "# 결과 저장\n",
        "rmse_list = []\n",
        "\n",
        "for train_index, test_index in ss.split(X):\n",
        "    X_train, X_test = X.iloc[train_index], X.iloc[test_index]\n",
        "    y_train, y_test = y.iloc[train_index], y.iloc[test_index]\n",
        "\n",
        "    # DMatrix 생성\n",
        "    dtrain = xgb.DMatrix(X_train, label=y_train)\n",
        "    dtest = xgb.DMatrix(X_test, label=y_test)\n",
        "\n",
        "    # 모델 학습\n",
        "    model = xgb.train(params, dtrain, num_boost_round=200,\n",
        "                      evals=[(dtest, 'eval')],\n",
        "                      early_stopping_rounds=10,\n",
        "                      verbose_eval=True)\n",
        "\n",
        "    # 예측 및 평가\n",
        "    y_pred = model.predict(dtest)\n",
        "    rmse = mean_squared_error(y_test, y_pred, squared=False)\n",
        "    rmse_list.append(rmse)\n",
        "    print(f\"Fold RMSE: {rmse:.2f}\")\n",
        "\n",
        "print(f\"Average RMSE across splits: {sum(rmse_list) / len(rmse_list):.2f}\")"
      ],
      "metadata": {
        "id": "RvbN5GA0CZGN"
      },
      "execution_count": null,
      "outputs": []
    },
    {
      "cell_type": "markdown",
      "source": [
        "##연도 별로 나눠서"
      ],
      "metadata": {
        "id": "aIqm22onDLdH"
      }
    },
    {
      "cell_type": "code",
      "source": [
        "years = combined_data['year'].unique()  # 고유한 연도 추출\n",
        "\n",
        "# 결과 저장\n",
        "rmse_list = []\n",
        "params = {\n",
        "    \"objective\": \"reg:squarederror\",\n",
        "    \"learning_rate\": 0.1,\n",
        "    \"max_depth\": 6,\n",
        "    \"subsample\": 0.8,\n",
        "    \"colsample_bytree\": 0.8\n",
        "}\n",
        "\n",
        "# 연도별 Custom Split\n",
        "for year in years:\n",
        "    # 특정 연도를 테스트 데이터로 설정\n",
        "    train_data = combined_data[combined_data['year'] != year]\n",
        "    test_data = combined_data[combined_data['year'] == year]\n",
        "\n",
        "    X_train, y_train = train_data.drop(columns=['PM_value', 'region', 'cluster']), train_data['PM_value']\n",
        "    X_test, y_test = test_data.drop(columns=['PM_value', 'region', 'cluster']), test_data['PM_value']\n",
        "\n",
        "    # DMatrix 생성\n",
        "    dtrain = xgb.DMatrix(X_train, label=y_train)\n",
        "    dtest = xgb.DMatrix(X_test, label=y_test)\n",
        "\n",
        "    # 모델 학습\n",
        "    model = xgb.train(params, dtrain, num_boost_round=200,\n",
        "                      evals=[(dtest, 'eval')],\n",
        "                      early_stopping_rounds=10,\n",
        "                      verbose_eval=True)\n",
        "\n",
        "    # 예측 및 평가\n",
        "    y_pred = model.predict(dtest)\n",
        "    rmse = mean_squared_error(y_test, y_pred, squared=False)\n",
        "    rmse_list.append(rmse)\n",
        "    print(f\"Year {year} as Test Set - RMSE: {rmse:.2f}\")\n",
        "\n",
        "# 평균 RMSE 출력\n",
        "print(f\"Average RMSE across years: {sum(rmse_list) / len(rmse_list):.2f}\")"
      ],
      "metadata": {
        "id": "3KzRf4PZDNQb"
      },
      "execution_count": null,
      "outputs": []
    }
  ]
}